{
 "cells": [
  {
   "cell_type": "code",
   "execution_count": 12,
   "id": "6752f221",
   "metadata": {},
   "outputs": [
    {
     "data": {
      "text/html": [
       "<pre style=\"white-space:pre;overflow-x:auto;line-height:normal;font-family:Menlo,'DejaVu Sans Mono',consolas,'Courier New',monospace\"><span style=\"color: #7fbfbf; text-decoration-color: #7fbfbf\">[07/30/21 14:58:01] </span><span style=\"color: #008000; text-decoration-color: #008000\">INFO    </span> Animation <span style=\"color: #008000; text-decoration-color: #008000\">0</span> : Using cached data <span style=\"font-weight: bold\">(</span>hash :    <span style=\"color: #7f7f7f; text-decoration-color: #7f7f7f\">cairo_renderer.py:100</span>\n",
       "                             3044240666_2076404828_2135977735<span style=\"font-weight: bold\">)</span>                               \n",
       "</pre>\n"
      ],
      "text/plain": [
       "\u001b[2;36m[07/30/21 14:58:01]\u001b[0m\u001b[2;36m \u001b[0m\u001b[32mINFO    \u001b[0m Animation \u001b[32m0\u001b[0m : Using cached data \u001b[1m(\u001b[0mhash :    \u001b[2mcairo_renderer.py\u001b[0m\u001b[2m:100\u001b[0m\n",
       "                             3044240666_2076404828_2135977735\u001b[1m)\u001b[0m                               \n"
      ]
     },
     "metadata": {},
     "output_type": "display_data"
    },
    {
     "data": {
      "text/html": [
       "<pre style=\"white-space:pre;overflow-x:auto;line-height:normal;font-family:Menlo,'DejaVu Sans Mono',consolas,'Courier New',monospace\"><span style=\"color: #7fbfbf; text-decoration-color: #7fbfbf\">                    </span><span style=\"color: #008000; text-decoration-color: #008000\">INFO    </span> Animation <span style=\"color: #008000; text-decoration-color: #008000\">1</span> : Using cached data <span style=\"font-weight: bold\">(</span>hash :    <span style=\"color: #7f7f7f; text-decoration-color: #7f7f7f\">cairo_renderer.py:100</span>\n",
       "                             3044240666_1404227251_3491088017<span style=\"font-weight: bold\">)</span>                               \n",
       "</pre>\n"
      ],
      "text/plain": [
       "\u001b[2;36m                   \u001b[0m\u001b[2;36m \u001b[0m\u001b[32mINFO    \u001b[0m Animation \u001b[32m1\u001b[0m : Using cached data \u001b[1m(\u001b[0mhash :    \u001b[2mcairo_renderer.py\u001b[0m\u001b[2m:100\u001b[0m\n",
       "                             3044240666_1404227251_3491088017\u001b[1m)\u001b[0m                               \n"
      ]
     },
     "metadata": {},
     "output_type": "display_data"
    },
    {
     "name": "stderr",
     "output_type": "stream",
     "text": [
      "                                                                                                                       \r"
     ]
    },
    {
     "data": {
      "text/html": [
       "<pre style=\"white-space:pre;overflow-x:auto;line-height:normal;font-family:Menlo,'DejaVu Sans Mono',consolas,'Courier New',monospace\"><span style=\"color: #7fbfbf; text-decoration-color: #7fbfbf\">                    </span><span style=\"color: #008000; text-decoration-color: #008000\">INFO    </span> Animation <span style=\"color: #008000; text-decoration-color: #008000\">2</span> : Using cached data <span style=\"font-weight: bold\">(</span>hash :    <span style=\"color: #7f7f7f; text-decoration-color: #7f7f7f\">cairo_renderer.py:100</span>\n",
       "                             144006928_4266594487_992356108<span style=\"font-weight: bold\">)</span>                                 \n",
       "</pre>\n"
      ],
      "text/plain": [
       "\u001b[2;36m                   \u001b[0m\u001b[2;36m \u001b[0m\u001b[32mINFO    \u001b[0m Animation \u001b[32m2\u001b[0m : Using cached data \u001b[1m(\u001b[0mhash :    \u001b[2mcairo_renderer.py\u001b[0m\u001b[2m:100\u001b[0m\n",
       "                             144006928_4266594487_992356108\u001b[1m)\u001b[0m                                 \n"
      ]
     },
     "metadata": {},
     "output_type": "display_data"
    },
    {
     "name": "stderr",
     "output_type": "stream",
     "text": [
      "                                                                                                                       \r"
     ]
    },
    {
     "data": {
      "text/html": [
       "<pre style=\"white-space:pre;overflow-x:auto;line-height:normal;font-family:Menlo,'DejaVu Sans Mono',consolas,'Courier New',monospace\"><span style=\"color: #7fbfbf; text-decoration-color: #7fbfbf\">[07/30/21 14:58:05] </span><span style=\"color: #008000; text-decoration-color: #008000\">INFO    </span> Animation <span style=\"color: #008000; text-decoration-color: #008000\">3</span> : Partial movie file        <span style=\"color: #7f7f7f; text-decoration-color: #7f7f7f\">scene_file_writer.py:413</span>\n",
       "                             written in <span style=\"color: #008000; text-decoration-color: #008000\">'C:\\Users\\Miguel Torres\\Desk</span>                         \n",
       "                             <span style=\"color: #008000; text-decoration-color: #008000\">top\\Manim\\media\\videos\\Manim\\1080p60\\pa</span>                         \n",
       "                             <span style=\"color: #008000; text-decoration-color: #008000\">rtial_movie_files\\UVVDU\\144006928_33452</span>                         \n",
       "                             <span style=\"color: #008000; text-decoration-color: #008000\">80050_3228865316.mp4'</span>                                           \n",
       "</pre>\n"
      ],
      "text/plain": [
       "\u001b[2;36m[07/30/21 14:58:05]\u001b[0m\u001b[2;36m \u001b[0m\u001b[32mINFO    \u001b[0m Animation \u001b[32m3\u001b[0m : Partial movie file        \u001b[2mscene_file_writer.py\u001b[0m\u001b[2m:413\u001b[0m\n",
       "                             written in \u001b[32m'C:\\Users\\Miguel Torres\\Desk\u001b[0m                         \n",
       "                             \u001b[32mtop\\Manim\\media\\videos\\Manim\\1080p60\\pa\u001b[0m                         \n",
       "                             \u001b[32mrtial_movie_files\\UVVDU\\144006928_33452\u001b[0m                         \n",
       "                             \u001b[32m80050_3228865316.mp4'\u001b[0m                                           \n"
      ]
     },
     "metadata": {},
     "output_type": "display_data"
    },
    {
     "data": {
      "text/html": [
       "<pre style=\"white-space:pre;overflow-x:auto;line-height:normal;font-family:Menlo,'DejaVu Sans Mono',consolas,'Courier New',monospace\"><span style=\"color: #7fbfbf; text-decoration-color: #7fbfbf\">                    </span><span style=\"color: #008000; text-decoration-color: #008000\">INFO    </span> Animation <span style=\"color: #008000; text-decoration-color: #008000\">4</span> : Using cached data <span style=\"font-weight: bold\">(</span>hash :    <span style=\"color: #7f7f7f; text-decoration-color: #7f7f7f\">cairo_renderer.py:100</span>\n",
       "                             144006928_4233912818_2751998756<span style=\"font-weight: bold\">)</span>                                \n",
       "</pre>\n"
      ],
      "text/plain": [
       "\u001b[2;36m                   \u001b[0m\u001b[2;36m \u001b[0m\u001b[32mINFO    \u001b[0m Animation \u001b[32m4\u001b[0m : Using cached data \u001b[1m(\u001b[0mhash :    \u001b[2mcairo_renderer.py\u001b[0m\u001b[2m:100\u001b[0m\n",
       "                             144006928_4233912818_2751998756\u001b[1m)\u001b[0m                                \n"
      ]
     },
     "metadata": {},
     "output_type": "display_data"
    },
    {
     "name": "stderr",
     "output_type": "stream",
     "text": [
      "                                                                                                                       \r"
     ]
    },
    {
     "data": {
      "text/html": [
       "<pre style=\"white-space:pre;overflow-x:auto;line-height:normal;font-family:Menlo,'DejaVu Sans Mono',consolas,'Courier New',monospace\"><span style=\"color: #7fbfbf; text-decoration-color: #7fbfbf\">[07/30/21 14:58:10] </span><span style=\"color: #008000; text-decoration-color: #008000\">INFO    </span> Animation <span style=\"color: #008000; text-decoration-color: #008000\">5</span> : Using cached data <span style=\"font-weight: bold\">(</span>hash :    <span style=\"color: #7f7f7f; text-decoration-color: #7f7f7f\">cairo_renderer.py:100</span>\n",
       "                             144006928_3282440128_3381396676<span style=\"font-weight: bold\">)</span>                                \n",
       "</pre>\n"
      ],
      "text/plain": [
       "\u001b[2;36m[07/30/21 14:58:10]\u001b[0m\u001b[2;36m \u001b[0m\u001b[32mINFO    \u001b[0m Animation \u001b[32m5\u001b[0m : Using cached data \u001b[1m(\u001b[0mhash :    \u001b[2mcairo_renderer.py\u001b[0m\u001b[2m:100\u001b[0m\n",
       "                             144006928_3282440128_3381396676\u001b[1m)\u001b[0m                                \n"
      ]
     },
     "metadata": {},
     "output_type": "display_data"
    },
    {
     "name": "stderr",
     "output_type": "stream",
     "text": [
      "                                                                                                                       \r"
     ]
    },
    {
     "data": {
      "text/html": [
       "<pre style=\"white-space:pre;overflow-x:auto;line-height:normal;font-family:Menlo,'DejaVu Sans Mono',consolas,'Courier New',monospace\"><span style=\"color: #7fbfbf; text-decoration-color: #7fbfbf\">[07/30/21 14:58:14] </span><span style=\"color: #008000; text-decoration-color: #008000\">INFO    </span> Animation <span style=\"color: #008000; text-decoration-color: #008000\">6</span> : Partial movie file        <span style=\"color: #7f7f7f; text-decoration-color: #7f7f7f\">scene_file_writer.py:413</span>\n",
       "                             written in <span style=\"color: #008000; text-decoration-color: #008000\">'C:\\Users\\Miguel Torres\\Desk</span>                         \n",
       "                             <span style=\"color: #008000; text-decoration-color: #008000\">top\\Manim\\media\\videos\\Manim\\1080p60\\pa</span>                         \n",
       "                             <span style=\"color: #008000; text-decoration-color: #008000\">rtial_movie_files\\UVVDU\\144006928_19340</span>                         \n",
       "                             <span style=\"color: #008000; text-decoration-color: #008000\">20782_409182997.mp4'</span>                                            \n",
       "</pre>\n"
      ],
      "text/plain": [
       "\u001b[2;36m[07/30/21 14:58:14]\u001b[0m\u001b[2;36m \u001b[0m\u001b[32mINFO    \u001b[0m Animation \u001b[32m6\u001b[0m : Partial movie file        \u001b[2mscene_file_writer.py\u001b[0m\u001b[2m:413\u001b[0m\n",
       "                             written in \u001b[32m'C:\\Users\\Miguel Torres\\Desk\u001b[0m                         \n",
       "                             \u001b[32mtop\\Manim\\media\\videos\\Manim\\1080p60\\pa\u001b[0m                         \n",
       "                             \u001b[32mrtial_movie_files\\UVVDU\\144006928_19340\u001b[0m                         \n",
       "                             \u001b[32m20782_409182997.mp4'\u001b[0m                                            \n"
      ]
     },
     "metadata": {},
     "output_type": "display_data"
    },
    {
     "data": {
      "text/html": [
       "<pre style=\"white-space:pre;overflow-x:auto;line-height:normal;font-family:Menlo,'DejaVu Sans Mono',consolas,'Courier New',monospace\"><span style=\"color: #7fbfbf; text-decoration-color: #7fbfbf\">                    </span><span style=\"color: #008000; text-decoration-color: #008000\">INFO    </span> Animation <span style=\"color: #008000; text-decoration-color: #008000\">7</span> : Using cached data <span style=\"font-weight: bold\">(</span>hash :    <span style=\"color: #7f7f7f; text-decoration-color: #7f7f7f\">cairo_renderer.py:100</span>\n",
       "                             144006928_1742588188_498644145<span style=\"font-weight: bold\">)</span>                                 \n",
       "</pre>\n"
      ],
      "text/plain": [
       "\u001b[2;36m                   \u001b[0m\u001b[2;36m \u001b[0m\u001b[32mINFO    \u001b[0m Animation \u001b[32m7\u001b[0m : Using cached data \u001b[1m(\u001b[0mhash :    \u001b[2mcairo_renderer.py\u001b[0m\u001b[2m:100\u001b[0m\n",
       "                             144006928_1742588188_498644145\u001b[1m)\u001b[0m                                 \n"
      ]
     },
     "metadata": {},
     "output_type": "display_data"
    },
    {
     "data": {
      "text/html": [
       "<pre style=\"white-space:pre;overflow-x:auto;line-height:normal;font-family:Menlo,'DejaVu Sans Mono',consolas,'Courier New',monospace\"><span style=\"color: #7fbfbf; text-decoration-color: #7fbfbf\">                    </span><span style=\"color: #008000; text-decoration-color: #008000\">INFO    </span>                                         <span style=\"color: #7f7f7f; text-decoration-color: #7f7f7f\">scene_file_writer.py:597</span>\n",
       "                             <span style=\"color: #808000; text-decoration-color: #808000; font-weight: bold\">File</span> ready at <span style=\"color: #008000; text-decoration-color: #008000\">'C:\\Users\\Miguel Torres\\D</span>                         \n",
       "                             <span style=\"color: #008000; text-decoration-color: #008000\">esktop\\Manim\\media\\videos\\Manim\\1080p60</span>                         \n",
       "                             <span style=\"color: #008000; text-decoration-color: #008000\">\\UVVDU.mp4'</span>                                                     \n",
       "                                                                                             \n",
       "</pre>\n"
      ],
      "text/plain": [
       "\u001b[2;36m                   \u001b[0m\u001b[2;36m \u001b[0m\u001b[32mINFO    \u001b[0m                                         \u001b[2mscene_file_writer.py\u001b[0m\u001b[2m:597\u001b[0m\n",
       "                             \u001b[1;33mFile\u001b[0m ready at \u001b[32m'C:\\Users\\Miguel Torres\\D\u001b[0m                         \n",
       "                             \u001b[32mesktop\\Manim\\media\\videos\\Manim\\1080p60\u001b[0m                         \n",
       "                             \u001b[32m\\UVVDU.mp4'\u001b[0m                                                     \n",
       "                                                                                             \n"
      ]
     },
     "metadata": {},
     "output_type": "display_data"
    },
    {
     "data": {
      "text/html": [
       "<pre style=\"white-space:pre;overflow-x:auto;line-height:normal;font-family:Menlo,'DejaVu Sans Mono',consolas,'Courier New',monospace\"><span style=\"color: #7fbfbf; text-decoration-color: #7fbfbf\">                    </span><span style=\"color: #008000; text-decoration-color: #008000\">INFO    </span> The partial movie directory is full <span style=\"font-weight: bold\">(</span>&gt;  <span style=\"color: #7f7f7f; text-decoration-color: #7f7f7f\">scene_file_writer.py:575</span>\n",
       "                             <span style=\"color: #008000; text-decoration-color: #008000\">100</span> files<span style=\"font-weight: bold\">)</span>. Therefore, manim has                                \n",
       "                             removed <span style=\"color: #008000; text-decoration-color: #008000\">2</span> <span style=\"color: #800080; text-decoration-color: #800080; font-weight: bold\">file</span><span style=\"font-weight: bold\">(</span>s<span style=\"font-weight: bold\">)</span> used by it the                                \n",
       "                             longest ago.You can change this                                 \n",
       "                             behaviour by changing max_files_cached                          \n",
       "                             in config.                                                      \n",
       "</pre>\n"
      ],
      "text/plain": [
       "\u001b[2;36m                   \u001b[0m\u001b[2;36m \u001b[0m\u001b[32mINFO    \u001b[0m The partial movie directory is full \u001b[1m(\u001b[0m>  \u001b[2mscene_file_writer.py\u001b[0m\u001b[2m:575\u001b[0m\n",
       "                             \u001b[32m100\u001b[0m files\u001b[1m)\u001b[0m. Therefore, manim has                                \n",
       "                             removed \u001b[32m2\u001b[0m \u001b[1;35mfile\u001b[0m\u001b[1m(\u001b[0ms\u001b[1m)\u001b[0m used by it the                                \n",
       "                             longest ago.You can change this                                 \n",
       "                             behaviour by changing max_files_cached                          \n",
       "                             in config.                                                      \n"
      ]
     },
     "metadata": {},
     "output_type": "display_data"
    },
    {
     "data": {
      "text/html": [
       "<pre style=\"white-space:pre;overflow-x:auto;line-height:normal;font-family:Menlo,'DejaVu Sans Mono',consolas,'Courier New',monospace\"><span style=\"color: #7fbfbf; text-decoration-color: #7fbfbf\">                    </span><span style=\"color: #008000; text-decoration-color: #008000\">INFO    </span> <span style=\"color: #808000; text-decoration-color: #808000; font-weight: bold\">Rendered</span> UVVDU                                      <span style=\"color: #7f7f7f; text-decoration-color: #7f7f7f\">scene.py:228</span>\n",
       "                             <span style=\"color: #808000; text-decoration-color: #808000; font-weight: bold\">Played</span> <span style=\"color: #008000; text-decoration-color: #008000\">8</span> <span style=\"color: #808000; text-decoration-color: #808000; font-weight: bold\">animations</span>                                             \n",
       "</pre>\n"
      ],
      "text/plain": [
       "\u001b[2;36m                   \u001b[0m\u001b[2;36m \u001b[0m\u001b[32mINFO    \u001b[0m \u001b[1;33mRendered\u001b[0m UVVDU                                      \u001b[2mscene.py\u001b[0m\u001b[2m:228\u001b[0m\n",
       "                             \u001b[1;33mPlayed\u001b[0m \u001b[32m8\u001b[0m \u001b[1;33manimations\u001b[0m                                             \n"
      ]
     },
     "metadata": {},
     "output_type": "display_data"
    },
    {
     "data": {
      "text/html": [
       "<video src=\"media\\jupyter\\UVVDU@2021-07-30@14-58-14.mp4\" controls autoplay loop style=\"max-width: 25vw;\"  >\n",
       "      Your browser does not support the <code>video</code> element.\n",
       "    </video>"
      ],
      "text/plain": [
       "<IPython.core.display.Video object>"
      ]
     },
     "metadata": {},
     "output_type": "display_data"
    }
   ],
   "source": [
    "%%manim UVVDU\n",
    "\n",
    "class UVVDU(Scene):\n",
    "    \n",
    "    def construct(self):\n",
    "        logo_black = \"#343434\"\n",
    "        self.camera.background_color = WHITE\n",
    "        \n",
    "        title = MathTex(\"\\int u \\cdot dv =\",\"u \\cdot v - \\int v \\cdot du\",fill_color=logo_black)\n",
    "\n",
    "        text = Tex(\"Una vaca vestida de uniforme\",fill_color=logo_black)\n",
    "\n",
    "        elipse_logo = Ellipse(width=14,height=4,color=BLACK)\n",
    "        circl = Circle(color=BLACK,fill_color=BLACK,fill_opacity=1)\n",
    "        \n",
    "\n",
    "        \n",
    "\n",
    "        self.wait(0.2)\n",
    "        self.play(Create(elipse_logo))\n",
    "\n",
    "        self.play(Write(title),run_time=0.75)\n",
    "        self.play(title.animate.shift(LEFT))\n",
    "        self.play(ReplacementTransform(title[1],text.next_to(title[0],RIGHT)))\n",
    "        self.play(Uncreate(elipse_logo))\n",
    "        self.add(circl.scale(0.000001))\n",
    "        self.play(circl.animate.scale(10000000),run_time=1.5)\n",
    "\n",
    "        self.wait()"
   ]
  },
  {
   "cell_type": "code",
   "execution_count": null,
   "id": "11935263",
   "metadata": {},
   "outputs": [],
   "source": []
  }
 ],
 "metadata": {
  "kernelspec": {
   "display_name": "Python 3",
   "language": "python",
   "name": "python3"
  },
  "language_info": {
   "codemirror_mode": {
    "name": "ipython",
    "version": 3
   },
   "file_extension": ".py",
   "mimetype": "text/x-python",
   "name": "python",
   "nbconvert_exporter": "python",
   "pygments_lexer": "ipython3",
   "version": "3.9.5"
  }
 },
 "nbformat": 4,
 "nbformat_minor": 5
}
